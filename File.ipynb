{
  "nbformat": 4,
  "nbformat_minor": 0,
  "metadata": {
    "colab": {
      "name": "Copia de Prueba.ipynb",
      "provenance": [],
      "collapsed_sections": []
    },
    "kernelspec": {
      "name": "python3",
      "display_name": "Python 3"
    },
    "language_info": {
      "name": "python"
    }
  },
  "cells": [
    {
      "cell_type": "code",
      "execution_count": null,
      "metadata": {
        "id": "tThImmNTj1aa"
      },
      "outputs": [],
      "source": [
        "#@markdown <br><center><img src='https://upload.wikimedia.org/wikipedia/commons/thumb/8/8a/Curl-logo.svg/1280px-Curl-logo.svg.png' height=\"50\" alt=\"Curl-logo\"/></center>\n",
        "#@title <center>Install curl</center>\n",
        "!apt install curl\n",
        "!curl"
      ]
    },
    {
      "cell_type": "code",
      "source": [
        "#@markdown <br><center><img src='https://upload.wikimedia.org/wikipedia/commons/thumb/f/fc/Icons8_flat_download.svg/100px-Icons8_flat_download.svg.png' height=\"50\" alt=\"Download-logo\"/></center>\n",
        "#@title <center>Download file</center>\n",
        "URL = \"\" #@param {type:\"string\"}\n",
        "!curl -O $URL"
      ],
      "metadata": {
        "id": "-066JD4y2NSU"
      },
      "execution_count": null,
      "outputs": []
    },
    {
      "cell_type": "code",
      "source": [
        "!ls -la"
      ],
      "metadata": {
        "id": "2YsvVwajEVHn"
      },
      "execution_count": null,
      "outputs": []
    }
  ]
}