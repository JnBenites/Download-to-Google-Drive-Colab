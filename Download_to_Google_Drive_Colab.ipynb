{
  "nbformat": 4,
  "nbformat_minor": 0,
  "metadata": {
    "colab": {
      "name": "Download-to-Google-Drive-Colab.ipynb",
      "provenance": [],
      "collapsed_sections": []
    },
    "kernelspec": {
      "name": "python3",
      "display_name": "Python 3"
    },
    "language_info": {
      "name": "python"
    }
  },
  "cells": [
    {
      "cell_type": "code",
      "execution_count": null,
      "metadata": {
        "id": "tThImmNTj1aa",
        "cellView": "form"
      },
      "outputs": [],
      "source": [
        "#@markdown <br><center><img src='https://upload.wikimedia.org/wikipedia/commons/thumb/8/8a/Curl-logo.svg/1280px-Curl-logo.svg.png' height=\"50\" alt=\"Curl-logo\"/></center>\n",
        "#@title <center>Install curl</center>\n",
        "!apt install curl\n",
        "!curl"
      ]
    },
    {
      "cell_type": "code",
      "source": [
        "#@markdown <br><center><img src='https://i.postimg.cc/bwfMMbn8/Google-Drive-Logo-650x366.png' height=\"50\" alt=\"Download-logo\"/></center>\n",
        "#@title <center>Connect to drive</center>\n",
        "from google.colab import drive\n",
        "drive.mount('/content/drive')"
      ],
      "metadata": {
        "cellView": "form",
        "id": "x-FACm4VyKvh"
      },
      "execution_count": null,
      "outputs": []
    },
    {
      "cell_type": "code",
      "source": [
        "#@markdown <br><center><img src='https://upload.wikimedia.org/wikipedia/commons/thumb/f/fc/Icons8_flat_download.svg/100px-Icons8_flat_download.svg.png' height=\"50\" alt=\"Download-logo\"/></center>\n",
        "#@title <center>Download file</center>\n",
        "URL = \"\" #@param {type:\"string\"}\n",
        "!curl -O $URL"
      ],
      "metadata": {
        "id": "-066JD4y2NSU",
        "cellView": "form"
      },
      "execution_count": null,
      "outputs": []
    },
    {
      "cell_type": "code",
      "source": [
        "#@title <center>List files</center>\n",
        "!ls"
      ],
      "metadata": {
        "cellView": "form",
        "id": "Y4MDNEiU2qcY"
      },
      "execution_count": null,
      "outputs": []
    }
  ]
}